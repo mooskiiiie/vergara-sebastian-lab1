{
 "cells": [
  {
   "cell_type": "markdown",
   "metadata": {},
   "source": [
    "**Student ID:** 196001\n",
    "\n",
    "**Surname:** Vergara\n",
    "\n",
    "**Year and Course:** 2 BS ITE"
   ]
  },
  {
   "cell_type": "markdown",
   "metadata": {},
   "source": [
    "### Problem 1\n",
    "Write a program that accepts an amount in US Dollars and converts to Philippine Pesos."
   ]
  },
  {
   "cell_type": "code",
   "execution_count": 1,
   "metadata": {},
   "outputs": [],
   "source": [
    "def dollars_to_pesos(money):\n",
    "    convert = money\n",
    "    return convert * 50\n",
    "    "
   ]
  },
  {
   "cell_type": "code",
   "execution_count": 12,
   "metadata": {},
   "outputs": [
    {
     "name": "stdout",
     "output_type": "stream",
     "text": [
      "Enter the amount in US Dollars = 2\n",
      "Here is the amount in Phillipine Pesos = 100\n"
     ]
    }
   ],
   "source": [
    "#this is the us dollars\n",
    "money = int(input('Enter the amount in US Dollars = '))\n",
    "convert = dollars_to_pesos(money)\n",
    "print('Here is the amount in Phillipine Pesos =',convert)"
   ]
  },
  {
   "cell_type": "code",
   "execution_count": null,
   "metadata": {},
   "outputs": [],
   "source": []
  },
  {
   "cell_type": "markdown",
   "metadata": {},
   "source": [
    "### Problem 2\n",
    "Write a program that accepts two positive integers, a and b, one per line"
   ]
  },
  {
   "cell_type": "code",
   "execution_count": 17,
   "metadata": {},
   "outputs": [
    {
     "name": "stdout",
     "output_type": "stream",
     "text": [
      "What is the first number? 5\n",
      "What is the second number? 5\n",
      "Enter any of the operations +,-,*,/,//: +\n",
      "5 + 5 = 10\n"
     ]
    }
   ],
   "source": [
    "number1 = int(input('What is the first number? '))\n",
    "number2 = int(input('What is the second number? '))\n",
    "operations = input('Enter any of the operations +,-,*,/,//: ')\n",
    "result = 0\n",
    "#this is the operations\n",
    "if operations == '+':\n",
    "    result = number1 + number2\n",
    "elif operations == '-':\n",
    "    result = number1 - number2\n",
    "elif operations == '*':\n",
    "    result = number1 * number2\n",
    "elif operations == '//':\n",
    "    result = number1 // number2\n",
    "elif operations == '/':\n",
    "    result = number1 / number2\n",
    "    \n",
    "print(number1,operations,number2,'=',result)"
   ]
  },
  {
   "cell_type": "code",
   "execution_count": null,
   "metadata": {},
   "outputs": [],
   "source": []
  },
  {
   "cell_type": "markdown",
   "metadata": {},
   "source": [
    "### Problem 3\n",
    "Write a program that computes for your **Body Mass Index (BMI)**."
   ]
  },
  {
   "cell_type": "code",
   "execution_count": 24,
   "metadata": {},
   "outputs": [],
   "source": [
    "def convert_cm_to_m(cm):\n",
    "    convert = cm\n",
    "    return convert / 100\n",
    "def compute_bmi(kg,m):\n",
    "    bmi = kg / m**2\n",
    "    return bmi"
   ]
  },
  {
   "cell_type": "code",
   "execution_count": 27,
   "metadata": {},
   "outputs": [
    {
     "name": "stdout",
     "output_type": "stream",
     "text": [
      "Enter kg: 65\n",
      "Enter cm: 180\n",
      "BMI: 20.061728395061728\n"
     ]
    }
   ],
   "source": [
    "kg = float(input('Enter kg: '))\n",
    "cm = float(input('Enter cm: '))\n",
    "m = convert\n",
    "convert = convert_cm_to_m(cm)\n",
    "bmi = compute_bmi(kg,m)\n",
    "print('BMI:',bmi)"
   ]
  },
  {
   "cell_type": "code",
   "execution_count": null,
   "metadata": {},
   "outputs": [],
   "source": []
  }
 ],
 "metadata": {
  "kernelspec": {
   "display_name": "Python 3",
   "language": "python",
   "name": "python3"
  },
  "language_info": {
   "codemirror_mode": {
    "name": "ipython",
    "version": 3
   },
   "file_extension": ".py",
   "mimetype": "text/x-python",
   "name": "python",
   "nbconvert_exporter": "python",
   "pygments_lexer": "ipython3",
   "version": "3.8.3"
  }
 },
 "nbformat": 4,
 "nbformat_minor": 4
}
